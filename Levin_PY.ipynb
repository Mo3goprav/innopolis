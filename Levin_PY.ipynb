{
  "nbformat": 4,
  "nbformat_minor": 0,
  "metadata": {
    "colab": {
      "provenance": [],
      "authorship_tag": "ABX9TyP5bcdeDFp1Ji8yA/MnraVd",
      "include_colab_link": true
    },
    "kernelspec": {
      "name": "python3",
      "display_name": "Python 3"
    },
    "language_info": {
      "name": "python"
    }
  },
  "cells": [
    {
      "cell_type": "markdown",
      "metadata": {
        "id": "view-in-github",
        "colab_type": "text"
      },
      "source": [
        "<a href=\"https://colab.research.google.com/github/Mo3goprav/innopolis/blob/main/Levin_PY.ipynb\" target=\"_parent\"><img src=\"https://colab.research.google.com/assets/colab-badge.svg\" alt=\"Open In Colab\"/></a>"
      ]
    },
    {
      "cell_type": "code",
      "execution_count": null,
      "metadata": {
        "colab": {
          "base_uri": "https://localhost:8080/"
        },
        "id": "oIdiTNvXH2tf",
        "outputId": "32efacdf-3f94-4e2c-eae5-46cc4772c87e"
      },
      "outputs": [
        {
          "output_type": "stream",
          "name": "stdout",
          "text": [
            "[[0.000e+00 1.000e+00 1.000e+00 2.000e+00 3.000e+00]\n",
            " [5.000e+00 8.000e+00 1.300e+01 2.100e+01 3.400e+01]\n",
            " [5.500e+01 8.900e+01 1.440e+02 2.330e+02 3.770e+02]\n",
            " [6.100e+02 9.870e+02 1.597e+03 2.584e+03 4.181e+03]]\n"
          ]
        }
      ],
      "source": [
        "import numpy as np\n",
        "\n",
        "n = 4 #количество стобцов\n",
        "k = 5 #количество строк\n",
        "m = n*k\n",
        "mx = np.empty(m)\n",
        "\n",
        "for i in range(m): #цикл для расчет чисел фибоначи\n",
        "  if i == 0:\n",
        "    mx[i] = 0\n",
        "  elif i == 1:\n",
        "    mx[i] = 1\n",
        "  else:\n",
        "    mx[i] = mx[i-1] + mx[i-2]\n",
        "\n",
        "mx = np.reshape(mx, (n,k)) #создание матрицы\n",
        "\n",
        "print(mx)"
      ]
    },
    {
      "cell_type": "code",
      "source": [
        "# вывод списков по запросу\n",
        "print(f'Cумма по столбцам {np.sum(mx, axis=0)} \\nCумма по строкам {np.sum(mx, axis=1)} \\nМаксимальное по столбцам {np.max(mx, axis=0)} \\nМаксимальное по строкам {np.max(mx, axis=1)} \\nМинимальное по столбцам {np.min(mx, axis=0)} \\nМинимальное по строкам {np.min(mx, axis=1)} \\n')"
      ],
      "metadata": {
        "colab": {
          "base_uri": "https://localhost:8080/"
        },
        "id": "S1P8lPLmBFq_",
        "outputId": "2c095432-132a-4d61-829c-64d858bba8ef"
      },
      "execution_count": null,
      "outputs": [
        {
          "output_type": "stream",
          "name": "stdout",
          "text": [
            "Cумма по столбцам [ 670. 1085. 1755. 2840. 4595.] \n",
            "Cумма по строкам [7.000e+00 8.100e+01 8.980e+02 9.959e+03] \n",
            "Максимальное по столбцам [ 610.  987. 1597. 2584. 4181.] \n",
            "Максимальное по строкам [3.000e+00 3.400e+01 3.770e+02 4.181e+03] \n",
            "Минимальное по столбцам [0. 1. 1. 2. 3.] \n",
            "Минимальное по строкам [  0.   5.  55. 610.] \n",
            "\n"
          ]
        }
      ]
    },
    {
      "cell_type": "code",
      "source": [
        "for i in range(n): #цикл который проходит по всем значениям матрицы и те которые больше 500 заменяет на 1\n",
        "  for j in range(k):\n",
        "    if mx[i][j] > 500:\n",
        "      mx[i][j] = 1\n",
        "\n",
        "print(mx)"
      ],
      "metadata": {
        "id": "ps6qRPKyfElH",
        "colab": {
          "base_uri": "https://localhost:8080/"
        },
        "outputId": "6f692e60-c644-4a49-ffec-f1c2951ccccb"
      },
      "execution_count": null,
      "outputs": [
        {
          "output_type": "stream",
          "name": "stdout",
          "text": [
            "[[  0.   1.   1.   2.   3.]\n",
            " [  5.   8.  13.  21.  34.]\n",
            " [ 55.  89. 144. 233. 377.]\n",
            " [  1.   1.   1.   1.   1.]]\n"
          ]
        }
      ]
    }
  ]
}