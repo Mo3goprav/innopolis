{
  "nbformat": 4,
  "nbformat_minor": 0,
  "metadata": {
    "colab": {
      "provenance": [],
      "authorship_tag": "ABX9TyPFR7PiIQ/kvfySkWmcDRRM",
      "include_colab_link": true
    },
    "kernelspec": {
      "name": "python3",
      "display_name": "Python 3"
    },
    "language_info": {
      "name": "python"
    }
  },
  "cells": [
    {
      "cell_type": "markdown",
      "metadata": {
        "id": "view-in-github",
        "colab_type": "text"
      },
      "source": [
        "<a href=\"https://colab.research.google.com/github/Mo3goprav/innopolis/blob/main/Levin_HW_20.ipynb\" target=\"_parent\"><img src=\"https://colab.research.google.com/assets/colab-badge.svg\" alt=\"Open In Colab\"/></a>"
      ]
    },
    {
      "cell_type": "code",
      "execution_count": null,
      "metadata": {
        "id": "Dgnc7W8ZguVm"
      },
      "outputs": [],
      "source": [
        "#ЗАДАНИЕ 1\n",
        "import pandas as pd\n",
        "from google.colab import drive\n",
        "\n",
        "#загрузка данных из таблиц гугл драйв\n",
        "drive.mount('/content/drive')\n",
        "data = pd.read_csv(\"drive/MyDrive/Sales - Подготовка.csv\")\n",
        "data2 = pd.read_csv(\"drive/MyDrive/Sales - Подготовка 2.csv\")"
      ]
    },
    {
      "cell_type": "code",
      "source": [
        "#ЗАДАНИЕ 2\n",
        "#создаем датафрейм\n",
        "df = pd.DataFrame(data)\n",
        "\n",
        "#фильтруем строки где есть дубликаты и формируем из них датафрейм, выводим результат\n",
        "DuplR= df[df.duplicated()]\n",
        "display(DuplR)"
      ],
      "metadata": {
        "id": "7KzldYv_nvse"
      },
      "execution_count": null,
      "outputs": []
    },
    {
      "cell_type": "code",
      "source": [
        "#создаем датафрейм и удаляем строки где есть дубликаты в исходном датафррейме\n",
        "df = pd.DataFrame(data)\n",
        "df.drop_duplicates(inplace=True)\n",
        "\n",
        "#изменяем индексацию для сохранения порядка\n",
        "df.reset_index(drop=True, inplace=True)\n",
        "\n",
        "#изменение типа данных второй колонки со строкового на числовой и выводим датафрейм\n",
        "df[\"manager_turnover\"] = df['manager_turnover'].str.replace(',','.').astype('float64')\n",
        "display(df)\n",
        "df.info()"
      ],
      "metadata": {
        "id": "5LlQ5tP_nbb8"
      },
      "execution_count": null,
      "outputs": []
    },
    {
      "cell_type": "code",
      "source": [
        "#ЗАДАНИЕ 3\n",
        "#считаем количество строк, так как метод считает только заполненные ячейки, то получаем два занчения заполненных и пустых ячеек\n",
        "NArows = df.count()\n",
        "\n",
        "#вытаскиваем значение ии рассчитываем процент и выводим ответ\n",
        "percentNA = ((NArows.values[0] - NArows.values[1]) / NArows.values[0]) * 100\n",
        "print(percentNA)"
      ],
      "metadata": {
        "id": "S1MpwRWjppTL"
      },
      "execution_count": null,
      "outputs": []
    },
    {
      "cell_type": "code",
      "source": [
        "#удаляем пустые строки\n",
        "dfDel = df.dropna()\n",
        "\n",
        "#изменяем индексацию для сохранения порядка\n",
        "dfDel.reset_index(drop=True, inplace=True)\n",
        "display(dfDel)"
      ],
      "metadata": {
        "id": "OFFhijhVvLoI"
      },
      "execution_count": null,
      "outputs": []
    },
    {
      "cell_type": "code",
      "source": [
        "#копируем исходный датафрейм\n",
        "dfMean = df.copy()\n",
        "\n",
        "#группируем данные по дате\n",
        "dfGroup = dfMean.groupby(['date'], group_keys=False)\n",
        "\n",
        "#заполняем пустые значения средними значениями на внутригрупповые значения, группировка по дате\n",
        "dfMean.manager_turnover = dfGroup.manager_turnover.apply(lambda x: x.fillna(x.median()))\n",
        "display(dfMean)"
      ],
      "metadata": {
        "id": "CEEqFsWZ4fiZ"
      },
      "execution_count": null,
      "outputs": []
    },
    {
      "cell_type": "code",
      "source": [
        "#ЗАДАНИЕ 4\n",
        "#создаем датафреймы\n",
        "df1 = df.copy()\n",
        "df2 = pd.DataFrame(data2)\n",
        "\n",
        "#группируем и суммируем по дянм нужные столбцы\n",
        "df1 = df1.groupby(['date'])['manager_turnover'].sum().reset_index()\n",
        "df2 = df2.groupby(['date'])['price'].sum().reset_index()\n",
        "\n",
        "#объединяем и выводим результат\n",
        "result = pd.merge(df1, df2)\n",
        "display(result)"
      ],
      "metadata": {
        "id": "LYSp0QUXPPpt"
      },
      "execution_count": null,
      "outputs": []
    }
  ]
}